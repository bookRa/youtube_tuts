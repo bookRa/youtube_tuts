{
 "cells": [
  {
   "cell_type": "markdown",
   "metadata": {},
   "source": [
    "### _Hello, this Notebook will give you a quick intro into how to append lists to a pandas dataframe_"
   ]
  },
  {
   "cell_type": "code",
   "execution_count": 1,
   "metadata": {},
   "outputs": [],
   "source": [
    "import pandas as pd"
   ]
  },
  {
   "cell_type": "markdown",
   "metadata": {},
   "source": [
    "### _First, let's create some data_"
   ]
  },
  {
   "cell_type": "code",
   "execution_count": 2,
   "metadata": {},
   "outputs": [],
   "source": [
    "d={\n",
    "    'Name':['Alice', 'Bob', 'Carl', 'Daisy', 'Elon'],\n",
    "    'Age':[22, 35, 44, 63, 80],\n",
    "    'Location':['Seattle', 'Lima', 'Osaka', 'Cairo', 'Berlin'],\n",
    "    'Language':['JavaScript', 'Python', 'C#', 'Go', 'Fortran'],\n",
    "}\n",
    "# Create a DataFrame, df, from the data\n",
    "df= pd.DataFrame(data=d)"
   ]
  },
  {
   "cell_type": "markdown",
   "metadata": {},
   "source": [
    "### _Let's see what we're working with here_"
   ]
  },
  {
   "cell_type": "code",
   "execution_count": 3,
   "metadata": {},
   "outputs": [
    {
     "data": {
      "text/html": [
       "<div>\n",
       "<style scoped>\n",
       "    .dataframe tbody tr th:only-of-type {\n",
       "        vertical-align: middle;\n",
       "    }\n",
       "\n",
       "    .dataframe tbody tr th {\n",
       "        vertical-align: top;\n",
       "    }\n",
       "\n",
       "    .dataframe thead th {\n",
       "        text-align: right;\n",
       "    }\n",
       "</style>\n",
       "<table border=\"1\" class=\"dataframe\">\n",
       "  <thead>\n",
       "    <tr style=\"text-align: right;\">\n",
       "      <th></th>\n",
       "      <th>Name</th>\n",
       "      <th>Age</th>\n",
       "      <th>Location</th>\n",
       "      <th>Language</th>\n",
       "    </tr>\n",
       "  </thead>\n",
       "  <tbody>\n",
       "    <tr>\n",
       "      <th>0</th>\n",
       "      <td>Alice</td>\n",
       "      <td>22</td>\n",
       "      <td>Seattle</td>\n",
       "      <td>JavaScript</td>\n",
       "    </tr>\n",
       "    <tr>\n",
       "      <th>1</th>\n",
       "      <td>Bob</td>\n",
       "      <td>35</td>\n",
       "      <td>Lima</td>\n",
       "      <td>Python</td>\n",
       "    </tr>\n",
       "    <tr>\n",
       "      <th>2</th>\n",
       "      <td>Carl</td>\n",
       "      <td>44</td>\n",
       "      <td>Osaka</td>\n",
       "      <td>C#</td>\n",
       "    </tr>\n",
       "    <tr>\n",
       "      <th>3</th>\n",
       "      <td>Daisy</td>\n",
       "      <td>63</td>\n",
       "      <td>Cairo</td>\n",
       "      <td>Go</td>\n",
       "    </tr>\n",
       "    <tr>\n",
       "      <th>4</th>\n",
       "      <td>Elon</td>\n",
       "      <td>80</td>\n",
       "      <td>Berlin</td>\n",
       "      <td>Fortran</td>\n",
       "    </tr>\n",
       "  </tbody>\n",
       "</table>\n",
       "</div>"
      ],
      "text/plain": [
       "    Name  Age Location    Language\n",
       "0  Alice   22  Seattle  JavaScript\n",
       "1    Bob   35     Lima      Python\n",
       "2   Carl   44    Osaka          C#\n",
       "3  Daisy   63    Cairo          Go\n",
       "4   Elon   80   Berlin     Fortran"
      ]
     },
     "execution_count": 3,
     "metadata": {},
     "output_type": "execute_result"
    }
   ],
   "source": [
    "df"
   ]
  },
  {
   "cell_type": "code",
   "execution_count": 4,
   "metadata": {
    "scrolled": true
   },
   "outputs": [
    {
     "name": "stdout",
     "output_type": "stream",
     "text": [
      "<class 'pandas.core.frame.DataFrame'>\n",
      "RangeIndex: 5 entries, 0 to 4\n",
      "Data columns (total 4 columns):\n",
      "Name        5 non-null object\n",
      "Age         5 non-null int64\n",
      "Location    5 non-null object\n",
      "Language    5 non-null object\n",
      "dtypes: int64(1), object(3)\n",
      "memory usage: 140.0+ bytes\n"
     ]
    }
   ],
   "source": [
    "df.info()"
   ]
  },
  {
   "cell_type": "markdown",
   "metadata": {},
   "source": [
    "### _Ok, now let's create our new rows/columns that we'll want to append to the dataset. We will try out different data types, and see what works and what doesn't_ "
   ]
  },
  {
   "cell_type": "code",
   "execution_count": 7,
   "metadata": {},
   "outputs": [],
   "source": [
    "num_list_4=[5, 6, 8, 9]\n",
    "num_list_7=[64, 42, 101, 229, 1, 27, 35]\n",
    "str_list_4=['green', 'yellow', 'blue', 'red']\n",
    "str_list_7=['chartreuse', 'plum', 'amber', 'teal', 'salmon', 'limegreen', 'burgundy']"
   ]
  },
  {
   "cell_type": "markdown",
   "metadata": {},
   "source": [
    "### _Here's a simple, overlooked solution, without resorting to df.append()_"
   ]
  },
  {
   "cell_type": "code",
   "execution_count": 6,
   "metadata": {
    "scrolled": true
   },
   "outputs": [
    {
     "data": {
      "text/html": [
       "<div>\n",
       "<style scoped>\n",
       "    .dataframe tbody tr th:only-of-type {\n",
       "        vertical-align: middle;\n",
       "    }\n",
       "\n",
       "    .dataframe tbody tr th {\n",
       "        vertical-align: top;\n",
       "    }\n",
       "\n",
       "    .dataframe thead th {\n",
       "        text-align: right;\n",
       "    }\n",
       "</style>\n",
       "<table border=\"1\" class=\"dataframe\">\n",
       "  <thead>\n",
       "    <tr style=\"text-align: right;\">\n",
       "      <th></th>\n",
       "      <th>Name</th>\n",
       "      <th>Age</th>\n",
       "      <th>Location</th>\n",
       "      <th>Language</th>\n",
       "    </tr>\n",
       "  </thead>\n",
       "  <tbody>\n",
       "    <tr>\n",
       "      <th>0</th>\n",
       "      <td>Alice</td>\n",
       "      <td>22</td>\n",
       "      <td>Seattle</td>\n",
       "      <td>JavaScript</td>\n",
       "    </tr>\n",
       "    <tr>\n",
       "      <th>1</th>\n",
       "      <td>Bob</td>\n",
       "      <td>35</td>\n",
       "      <td>Lima</td>\n",
       "      <td>Python</td>\n",
       "    </tr>\n",
       "    <tr>\n",
       "      <th>2</th>\n",
       "      <td>Carl</td>\n",
       "      <td>44</td>\n",
       "      <td>Osaka</td>\n",
       "      <td>C#</td>\n",
       "    </tr>\n",
       "    <tr>\n",
       "      <th>3</th>\n",
       "      <td>Daisy</td>\n",
       "      <td>63</td>\n",
       "      <td>Cairo</td>\n",
       "      <td>Go</td>\n",
       "    </tr>\n",
       "    <tr>\n",
       "      <th>4</th>\n",
       "      <td>Elon</td>\n",
       "      <td>80</td>\n",
       "      <td>Berlin</td>\n",
       "      <td>Fortran</td>\n",
       "    </tr>\n",
       "    <tr>\n",
       "      <th>5</th>\n",
       "      <td>5</td>\n",
       "      <td>6</td>\n",
       "      <td>8</td>\n",
       "      <td>9</td>\n",
       "    </tr>\n",
       "    <tr>\n",
       "      <th>6</th>\n",
       "      <td>green</td>\n",
       "      <td>yellow</td>\n",
       "      <td>blue</td>\n",
       "      <td>red</td>\n",
       "    </tr>\n",
       "  </tbody>\n",
       "</table>\n",
       "</div>"
      ],
      "text/plain": [
       "    Name     Age Location    Language\n",
       "0  Alice      22  Seattle  JavaScript\n",
       "1    Bob      35     Lima      Python\n",
       "2   Carl      44    Osaka          C#\n",
       "3  Daisy      63    Cairo          Go\n",
       "4   Elon      80   Berlin     Fortran\n",
       "5      5       6        8           9\n",
       "6  green  yellow     blue         red"
      ]
     },
     "execution_count": 6,
     "metadata": {},
     "output_type": "execute_result"
    }
   ],
   "source": [
    "df.loc[len(df)]=num_list_4\n",
    "df.loc[len(df)]=str_list_4\n",
    "df"
   ]
  },
  {
   "cell_type": "markdown",
   "metadata": {},
   "source": [
    "### _Notice, in this case we_ have _to make sure that len(list)==len(df.columns)_"
   ]
  },
  {
   "cell_type": "code",
   "execution_count": 27,
   "metadata": {},
   "outputs": [],
   "source": [
    "# Both these will return errors:\n",
    "# df.loc[len(df)]=num_list_5\n",
    "# df.loc[len(df)]=str_list_5"
   ]
  },
  {
   "cell_type": "markdown",
   "metadata": {},
   "source": [
    "### _What if we want to do an analogous operation and a tack a column onto the end?_"
   ]
  },
  {
   "cell_type": "code",
   "execution_count": 26,
   "metadata": {
    "scrolled": true
   },
   "outputs": [
    {
     "data": {
      "text/html": [
       "<div>\n",
       "<style scoped>\n",
       "    .dataframe tbody tr th:only-of-type {\n",
       "        vertical-align: middle;\n",
       "    }\n",
       "\n",
       "    .dataframe tbody tr th {\n",
       "        vertical-align: top;\n",
       "    }\n",
       "\n",
       "    .dataframe thead th {\n",
       "        text-align: right;\n",
       "    }\n",
       "</style>\n",
       "<table border=\"1\" class=\"dataframe\">\n",
       "  <thead>\n",
       "    <tr style=\"text-align: right;\">\n",
       "      <th></th>\n",
       "      <th>Name</th>\n",
       "      <th>Age</th>\n",
       "      <th>Location</th>\n",
       "      <th>Language</th>\n",
       "      <th>Q</th>\n",
       "      <th>Fav_Num</th>\n",
       "      <th>Fav_Color</th>\n",
       "    </tr>\n",
       "  </thead>\n",
       "  <tbody>\n",
       "    <tr>\n",
       "      <th>0</th>\n",
       "      <td>Alice</td>\n",
       "      <td>22</td>\n",
       "      <td>Seattle</td>\n",
       "      <td>JavaScript</td>\n",
       "      <td>64</td>\n",
       "      <td>64</td>\n",
       "      <td>chartreuse</td>\n",
       "    </tr>\n",
       "    <tr>\n",
       "      <th>1</th>\n",
       "      <td>Bob</td>\n",
       "      <td>35</td>\n",
       "      <td>Lima</td>\n",
       "      <td>Python</td>\n",
       "      <td>42</td>\n",
       "      <td>42</td>\n",
       "      <td>plum</td>\n",
       "    </tr>\n",
       "    <tr>\n",
       "      <th>2</th>\n",
       "      <td>Carl</td>\n",
       "      <td>44</td>\n",
       "      <td>Osaka</td>\n",
       "      <td>C#</td>\n",
       "      <td>101</td>\n",
       "      <td>101</td>\n",
       "      <td>amber</td>\n",
       "    </tr>\n",
       "    <tr>\n",
       "      <th>3</th>\n",
       "      <td>Daisy</td>\n",
       "      <td>63</td>\n",
       "      <td>Cairo</td>\n",
       "      <td>Go</td>\n",
       "      <td>229</td>\n",
       "      <td>229</td>\n",
       "      <td>teal</td>\n",
       "    </tr>\n",
       "    <tr>\n",
       "      <th>4</th>\n",
       "      <td>Elon</td>\n",
       "      <td>80</td>\n",
       "      <td>Berlin</td>\n",
       "      <td>Fortran</td>\n",
       "      <td>1</td>\n",
       "      <td>1</td>\n",
       "      <td>salmon</td>\n",
       "    </tr>\n",
       "    <tr>\n",
       "      <th>5</th>\n",
       "      <td>5</td>\n",
       "      <td>6</td>\n",
       "      <td>8</td>\n",
       "      <td>9</td>\n",
       "      <td>27</td>\n",
       "      <td>27</td>\n",
       "      <td>limegreen</td>\n",
       "    </tr>\n",
       "    <tr>\n",
       "      <th>6</th>\n",
       "      <td>green</td>\n",
       "      <td>yellow</td>\n",
       "      <td>blue</td>\n",
       "      <td>red</td>\n",
       "      <td>35</td>\n",
       "      <td>35</td>\n",
       "      <td>burgundy</td>\n",
       "    </tr>\n",
       "  </tbody>\n",
       "</table>\n",
       "</div>"
      ],
      "text/plain": [
       "    Name     Age Location    Language    Q  Fav_Num   Fav_Color\n",
       "0  Alice      22  Seattle  JavaScript   64       64  chartreuse\n",
       "1    Bob      35     Lima      Python   42       42        plum\n",
       "2   Carl      44    Osaka          C#  101      101       amber\n",
       "3  Daisy      63    Cairo          Go  229      229        teal\n",
       "4   Elon      80   Berlin     Fortran    1        1      salmon\n",
       "5      5       6        8           9   27       27   limegreen\n",
       "6  green  yellow     blue         red   35       35    burgundy"
      ]
     },
     "execution_count": 26,
     "metadata": {},
     "output_type": "execute_result"
    }
   ],
   "source": [
    "# pd.concat([df, pd.Series(num_list_7, name=\"Hello\")], axis=1)\n",
    "df['Fav_Num']=num_list_7\n",
    "df['Fav_Color']=str_list_7\n",
    "df"
   ]
  },
  {
   "cell_type": "markdown",
   "metadata": {},
   "source": [
    "### _Obviously, we have totally messed up the dtypes of our DataFrame_ ...  ¯\\\\_(ツ)_/¯ "
   ]
  },
  {
   "cell_type": "markdown",
   "metadata": {},
   "source": [
    "_The methods I've shown above work well enough, but they are crude and could result in problems if you have more complex data sets/structures to work with. For example, what if your un-appended data comes in a jumbled order? In this case (and most others), we will want to turn our list into either a Pandas DataFrame or Series. That way, we can make use of the powerful functions that include .append, .join, .concat, etc. and make sure our data is tacked on in the way that we want!_"
   ]
  },
  {
   "cell_type": "code",
   "execution_count": 34,
   "metadata": {},
   "outputs": [],
   "source": [
    "# The columns for info we want are in totally different order than df\n",
    "jumble_ser=pd.Series(['Toronto', 88, 'Perl', 'Omar', 'gold', 99, 0],\n",
    "                     ['Location', 'Q', 'Language', 'Name', 'Fav_Color', 'Fav_Num', 'Age'])"
   ]
  },
  {
   "cell_type": "code",
   "execution_count": 44,
   "metadata": {},
   "outputs": [],
   "source": [
    "#Not a problem if we use .append with a series!\n",
    "df=df.append([jumble_ser], ignore_index=True)"
   ]
  },
  {
   "cell_type": "markdown",
   "metadata": {},
   "source": [
    "### _And, of course, we can apply the SQL-like function, .join(), to do even more powerful merges of two data sets. In this case, all we know are the names of the person, and another piece of info_"
   ]
  },
  {
   "cell_type": "code",
   "execution_count": 48,
   "metadata": {},
   "outputs": [
    {
     "data": {
      "text/html": [
       "<div>\n",
       "<style scoped>\n",
       "    .dataframe tbody tr th:only-of-type {\n",
       "        vertical-align: middle;\n",
       "    }\n",
       "\n",
       "    .dataframe tbody tr th {\n",
       "        vertical-align: top;\n",
       "    }\n",
       "\n",
       "    .dataframe thead th {\n",
       "        text-align: right;\n",
       "    }\n",
       "</style>\n",
       "<table border=\"1\" class=\"dataframe\">\n",
       "  <thead>\n",
       "    <tr style=\"text-align: right;\">\n",
       "      <th></th>\n",
       "      <th>Name</th>\n",
       "      <th>Age</th>\n",
       "      <th>Location</th>\n",
       "      <th>Language</th>\n",
       "      <th>Q</th>\n",
       "      <th>Fav_Num</th>\n",
       "      <th>Fav_Color</th>\n",
       "      <th>Fav_food</th>\n",
       "    </tr>\n",
       "  </thead>\n",
       "  <tbody>\n",
       "    <tr>\n",
       "      <th>0</th>\n",
       "      <td>Alice</td>\n",
       "      <td>22</td>\n",
       "      <td>Seattle</td>\n",
       "      <td>JavaScript</td>\n",
       "      <td>64</td>\n",
       "      <td>64</td>\n",
       "      <td>chartreuse</td>\n",
       "      <td>Curry</td>\n",
       "    </tr>\n",
       "    <tr>\n",
       "      <th>1</th>\n",
       "      <td>Bob</td>\n",
       "      <td>35</td>\n",
       "      <td>Lima</td>\n",
       "      <td>Python</td>\n",
       "      <td>42</td>\n",
       "      <td>42</td>\n",
       "      <td>plum</td>\n",
       "      <td>Falafel</td>\n",
       "    </tr>\n",
       "    <tr>\n",
       "      <th>2</th>\n",
       "      <td>Carl</td>\n",
       "      <td>44</td>\n",
       "      <td>Osaka</td>\n",
       "      <td>C#</td>\n",
       "      <td>101</td>\n",
       "      <td>101</td>\n",
       "      <td>amber</td>\n",
       "      <td>Steak</td>\n",
       "    </tr>\n",
       "    <tr>\n",
       "      <th>3</th>\n",
       "      <td>Daisy</td>\n",
       "      <td>63</td>\n",
       "      <td>Cairo</td>\n",
       "      <td>Go</td>\n",
       "      <td>229</td>\n",
       "      <td>229</td>\n",
       "      <td>teal</td>\n",
       "      <td>Sushi</td>\n",
       "    </tr>\n",
       "    <tr>\n",
       "      <th>4</th>\n",
       "      <td>Elon</td>\n",
       "      <td>80</td>\n",
       "      <td>Berlin</td>\n",
       "      <td>Fortran</td>\n",
       "      <td>1</td>\n",
       "      <td>1</td>\n",
       "      <td>salmon</td>\n",
       "      <td>Hot Dogs</td>\n",
       "    </tr>\n",
       "    <tr>\n",
       "      <th>5</th>\n",
       "      <td>5</td>\n",
       "      <td>6</td>\n",
       "      <td>8</td>\n",
       "      <td>9</td>\n",
       "      <td>27</td>\n",
       "      <td>27</td>\n",
       "      <td>limegreen</td>\n",
       "      <td>NaN</td>\n",
       "    </tr>\n",
       "    <tr>\n",
       "      <th>6</th>\n",
       "      <td>green</td>\n",
       "      <td>yellow</td>\n",
       "      <td>blue</td>\n",
       "      <td>red</td>\n",
       "      <td>35</td>\n",
       "      <td>35</td>\n",
       "      <td>burgundy</td>\n",
       "      <td>NaN</td>\n",
       "    </tr>\n",
       "    <tr>\n",
       "      <th>7</th>\n",
       "      <td>Omar</td>\n",
       "      <td>0</td>\n",
       "      <td>Toronto</td>\n",
       "      <td>Perl</td>\n",
       "      <td>88</td>\n",
       "      <td>99</td>\n",
       "      <td>gold</td>\n",
       "      <td>Red Bull Cans</td>\n",
       "    </tr>\n",
       "  </tbody>\n",
       "</table>\n",
       "</div>"
      ],
      "text/plain": [
       "    Name     Age Location    Language    Q  Fav_Num   Fav_Color       Fav_food\n",
       "0  Alice      22  Seattle  JavaScript   64       64  chartreuse          Curry\n",
       "1    Bob      35     Lima      Python   42       42        plum        Falafel\n",
       "2   Carl      44    Osaka          C#  101      101       amber          Steak\n",
       "3  Daisy      63    Cairo          Go  229      229        teal          Sushi\n",
       "4   Elon      80   Berlin     Fortran    1        1      salmon       Hot Dogs\n",
       "5      5       6        8           9   27       27   limegreen            NaN\n",
       "6  green  yellow     blue         red   35       35    burgundy            NaN\n",
       "7   Omar       0  Toronto        Perl   88       99        gold  Red Bull Cans"
      ]
     },
     "execution_count": 48,
     "metadata": {},
     "output_type": "execute_result"
    }
   ],
   "source": [
    "food={\n",
    "    'Alice': 'Curry',\n",
    "    'Bob': 'Falafel',\n",
    "    'Carl': 'Steak',\n",
    "    'Daisy': 'Sushi',\n",
    "    'Elon': 'Hot Dogs',\n",
    "    'Omar': 'Red Bull Cans'\n",
    "}\n",
    "# we have to give food_ser a name field if we wish to join it to a dataframe\n",
    "food_ser=pd.Series(food, name='Fav_food') \n",
    "df.join(food_ser, on='Name')"
   ]
  },
  {
   "cell_type": "markdown",
   "metadata": {},
   "source": [
    "### _That's all for now! Hopefully this will be enough to get the ball rolling. Experiment with the .append(), .join(), .concat(), and .merge() methods until you achieve your goal. There's plenty of ways to skin a cat!_"
   ]
  },
  {
   "cell_type": "code",
   "execution_count": null,
   "metadata": {},
   "outputs": [],
   "source": []
  }
 ],
 "metadata": {
  "kernelspec": {
   "display_name": "Python 3",
   "language": "python",
   "name": "python3"
  },
  "language_info": {
   "codemirror_mode": {
    "name": "ipython",
    "version": 3
   },
   "file_extension": ".py",
   "mimetype": "text/x-python",
   "name": "python",
   "nbconvert_exporter": "python",
   "pygments_lexer": "ipython3",
   "version": "3.6.5"
  }
 },
 "nbformat": 4,
 "nbformat_minor": 2
}
